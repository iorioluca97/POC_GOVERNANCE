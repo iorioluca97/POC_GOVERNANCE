{
  "cells": [
    {
      "cell_type": "markdown",
      "metadata": {},
      "source": [
        "Set up the env"
      ]
    },
    {
      "cell_type": "code",
      "execution_count": 1,
      "metadata": {},
      "outputs": [
        {
          "name": "stdout",
          "output_type": "stream",
          "text": [
            "c:\\Users\\l.iorio\\development\\POC_GOVERNANCE\n",
            "Obtaining file:///C:/Users/l.iorio/development/POC_GOVERNANCE\n",
            "  Installing build dependencies: started\n",
            "  Installing build dependencies: finished with status 'done'\n",
            "  Checking if build backend supports build_editable: started\n",
            "  Checking if build backend supports build_editable: finished with status 'done'\n",
            "  Getting requirements to build editable: started\n",
            "  Getting requirements to build editable: finished with status 'done'\n",
            "  Preparing editable metadata (pyproject.toml): started\n",
            "  Preparing editable metadata (pyproject.toml): finished with status 'done'\n",
            "Requirement already satisfied: coloredlogs<16.0.0,>=15.0.1 in c:\\users\\l.iorio\\appdata\\local\\packages\\pythonsoftwarefoundation.python.3.11_qbz5n2kfra8p0\\localcache\\local\\pypoetry\\cache\\virtualenvs\\poc-gdpr-cnt9rgik-py3.11\\lib\\site-packages (from poc-gdpr==0.1.0) (15.0.1)\n",
            "Requirement already satisfied: great-expectations<2.0.0,>=1.4.4 in c:\\users\\l.iorio\\appdata\\local\\packages\\pythonsoftwarefoundation.python.3.11_qbz5n2kfra8p0\\localcache\\local\\pypoetry\\cache\\virtualenvs\\poc-gdpr-cnt9rgik-py3.11\\lib\\site-packages (from poc-gdpr==0.1.0) (1.4.4)\n",
            "Requirement already satisfied: ipython<10.0.0,>=9.2.0 in c:\\users\\l.iorio\\appdata\\local\\packages\\pythonsoftwarefoundation.python.3.11_qbz5n2kfra8p0\\localcache\\local\\pypoetry\\cache\\virtualenvs\\poc-gdpr-cnt9rgik-py3.11\\lib\\site-packages (from poc-gdpr==0.1.0) (9.2.0)\n",
            "Requirement already satisfied: mtcnn<2.0.0,>=1.0.0 in c:\\users\\l.iorio\\appdata\\local\\packages\\pythonsoftwarefoundation.python.3.11_qbz5n2kfra8p0\\localcache\\local\\pypoetry\\cache\\virtualenvs\\poc-gdpr-cnt9rgik-py3.11\\lib\\site-packages (from poc-gdpr==0.1.0) (1.0.0)\n",
            "Requirement already satisfied: openai-agents<0.0.16,>=0.0.15 in c:\\users\\l.iorio\\appdata\\local\\packages\\pythonsoftwarefoundation.python.3.11_qbz5n2kfra8p0\\localcache\\local\\pypoetry\\cache\\virtualenvs\\poc-gdpr-cnt9rgik-py3.11\\lib\\site-packages (from poc-gdpr==0.1.0) (0.0.15)\n",
            "Requirement already satisfied: opencv-python<5.0.0.0,>=4.11.0.86 in c:\\users\\l.iorio\\appdata\\local\\packages\\pythonsoftwarefoundation.python.3.11_qbz5n2kfra8p0\\localcache\\local\\pypoetry\\cache\\virtualenvs\\poc-gdpr-cnt9rgik-py3.11\\lib\\site-packages (from poc-gdpr==0.1.0) (4.11.0.86)\n",
            "Requirement already satisfied: pillow<12.0.0,>=11.2.1 in c:\\users\\l.iorio\\appdata\\local\\packages\\pythonsoftwarefoundation.python.3.11_qbz5n2kfra8p0\\localcache\\local\\pypoetry\\cache\\virtualenvs\\poc-gdpr-cnt9rgik-py3.11\\lib\\site-packages (from poc-gdpr==0.1.0) (11.2.1)\n",
            "Requirement already satisfied: presidio-analyzer<3.0.0,>=2.2.358 in c:\\users\\l.iorio\\appdata\\local\\packages\\pythonsoftwarefoundation.python.3.11_qbz5n2kfra8p0\\localcache\\local\\pypoetry\\cache\\virtualenvs\\poc-gdpr-cnt9rgik-py3.11\\lib\\site-packages (from poc-gdpr==0.1.0) (2.2.358)\n",
            "Requirement already satisfied: presidio-anonymizer<3.0.0,>=2.2.358 in c:\\users\\l.iorio\\appdata\\local\\packages\\pythonsoftwarefoundation.python.3.11_qbz5n2kfra8p0\\localcache\\local\\pypoetry\\cache\\virtualenvs\\poc-gdpr-cnt9rgik-py3.11\\lib\\site-packages (from poc-gdpr==0.1.0) (2.2.358)\n",
            "Requirement already satisfied: torch<3.0.0,>=2.7.0 in c:\\users\\l.iorio\\appdata\\local\\packages\\pythonsoftwarefoundation.python.3.11_qbz5n2kfra8p0\\localcache\\local\\pypoetry\\cache\\virtualenvs\\poc-gdpr-cnt9rgik-py3.11\\lib\\site-packages (from poc-gdpr==0.1.0) (2.7.0)\n",
            "Requirement already satisfied: transformers<5.0.0,>=4.51.3 in c:\\users\\l.iorio\\appdata\\local\\packages\\pythonsoftwarefoundation.python.3.11_qbz5n2kfra8p0\\localcache\\local\\pypoetry\\cache\\virtualenvs\\poc-gdpr-cnt9rgik-py3.11\\lib\\site-packages (from poc-gdpr==0.1.0) (4.51.3)\n",
            "Requirement already satisfied: humanfriendly>=9.1 in c:\\users\\l.iorio\\appdata\\local\\packages\\pythonsoftwarefoundation.python.3.11_qbz5n2kfra8p0\\localcache\\local\\pypoetry\\cache\\virtualenvs\\poc-gdpr-cnt9rgik-py3.11\\lib\\site-packages (from coloredlogs<16.0.0,>=15.0.1->poc-gdpr==0.1.0) (10.0)\n",
            "Requirement already satisfied: altair<5.0.0,>=4.2.1 in c:\\users\\l.iorio\\appdata\\local\\packages\\pythonsoftwarefoundation.python.3.11_qbz5n2kfra8p0\\localcache\\local\\pypoetry\\cache\\virtualenvs\\poc-gdpr-cnt9rgik-py3.11\\lib\\site-packages (from great-expectations<2.0.0,>=1.4.4->poc-gdpr==0.1.0) (4.2.2)\n",
            "Requirement already satisfied: cryptography>=3.2 in c:\\users\\l.iorio\\appdata\\local\\packages\\pythonsoftwarefoundation.python.3.11_qbz5n2kfra8p0\\localcache\\local\\pypoetry\\cache\\virtualenvs\\poc-gdpr-cnt9rgik-py3.11\\lib\\site-packages (from great-expectations<2.0.0,>=1.4.4->poc-gdpr==0.1.0) (43.0.3)\n",
            "Requirement already satisfied: jinja2>=3 in c:\\users\\l.iorio\\appdata\\local\\packages\\pythonsoftwarefoundation.python.3.11_qbz5n2kfra8p0\\localcache\\local\\pypoetry\\cache\\virtualenvs\\poc-gdpr-cnt9rgik-py3.11\\lib\\site-packages (from great-expectations<2.0.0,>=1.4.4->poc-gdpr==0.1.0) (3.1.6)\n",
            "Requirement already satisfied: jsonschema>=2.5.1 in c:\\users\\l.iorio\\appdata\\local\\packages\\pythonsoftwarefoundation.python.3.11_qbz5n2kfra8p0\\localcache\\local\\pypoetry\\cache\\virtualenvs\\poc-gdpr-cnt9rgik-py3.11\\lib\\site-packages (from great-expectations<2.0.0,>=1.4.4->poc-gdpr==0.1.0) (4.23.0)\n",
            "Requirement already satisfied: marshmallow<4.0.0,>=3.7.1 in c:\\users\\l.iorio\\appdata\\local\\packages\\pythonsoftwarefoundation.python.3.11_qbz5n2kfra8p0\\localcache\\local\\pypoetry\\cache\\virtualenvs\\poc-gdpr-cnt9rgik-py3.11\\lib\\site-packages (from great-expectations<2.0.0,>=1.4.4->poc-gdpr==0.1.0) (3.26.1)\n",
            "Requirement already satisfied: mistune>=0.8.4 in c:\\users\\l.iorio\\appdata\\local\\packages\\pythonsoftwarefoundation.python.3.11_qbz5n2kfra8p0\\localcache\\local\\pypoetry\\cache\\virtualenvs\\poc-gdpr-cnt9rgik-py3.11\\lib\\site-packages (from great-expectations<2.0.0,>=1.4.4->poc-gdpr==0.1.0) (3.1.3)\n",
            "Requirement already satisfied: packaging in c:\\users\\l.iorio\\appdata\\local\\packages\\pythonsoftwarefoundation.python.3.11_qbz5n2kfra8p0\\localcache\\local\\pypoetry\\cache\\virtualenvs\\poc-gdpr-cnt9rgik-py3.11\\lib\\site-packages (from great-expectations<2.0.0,>=1.4.4->poc-gdpr==0.1.0) (25.0)\n",
            "Requirement already satisfied: posthog<4,>3 in c:\\users\\l.iorio\\appdata\\local\\packages\\pythonsoftwarefoundation.python.3.11_qbz5n2kfra8p0\\localcache\\local\\pypoetry\\cache\\virtualenvs\\poc-gdpr-cnt9rgik-py3.11\\lib\\site-packages (from great-expectations<2.0.0,>=1.4.4->poc-gdpr==0.1.0) (3.25.0)\n",
            "Requirement already satisfied: pydantic>=1.10.7 in c:\\users\\l.iorio\\appdata\\local\\packages\\pythonsoftwarefoundation.python.3.11_qbz5n2kfra8p0\\localcache\\local\\pypoetry\\cache\\virtualenvs\\poc-gdpr-cnt9rgik-py3.11\\lib\\site-packages (from great-expectations<2.0.0,>=1.4.4->poc-gdpr==0.1.0) (2.11.3)\n",
            "Requirement already satisfied: pyparsing>=2.4 in c:\\users\\l.iorio\\appdata\\local\\packages\\pythonsoftwarefoundation.python.3.11_qbz5n2kfra8p0\\localcache\\local\\pypoetry\\cache\\virtualenvs\\poc-gdpr-cnt9rgik-py3.11\\lib\\site-packages (from great-expectations<2.0.0,>=1.4.4->poc-gdpr==0.1.0) (3.2.3)\n",
            "Requirement already satisfied: python-dateutil>=2.8.1 in c:\\users\\l.iorio\\appdata\\local\\packages\\pythonsoftwarefoundation.python.3.11_qbz5n2kfra8p0\\localcache\\local\\pypoetry\\cache\\virtualenvs\\poc-gdpr-cnt9rgik-py3.11\\lib\\site-packages (from great-expectations<2.0.0,>=1.4.4->poc-gdpr==0.1.0) (2.9.0.post0)\n",
            "Requirement already satisfied: requests>=2.20 in c:\\users\\l.iorio\\appdata\\local\\packages\\pythonsoftwarefoundation.python.3.11_qbz5n2kfra8p0\\localcache\\local\\pypoetry\\cache\\virtualenvs\\poc-gdpr-cnt9rgik-py3.11\\lib\\site-packages (from great-expectations<2.0.0,>=1.4.4->poc-gdpr==0.1.0) (2.32.3)\n",
            "Requirement already satisfied: ruamel.yaml>=0.16 in c:\\users\\l.iorio\\appdata\\local\\packages\\pythonsoftwarefoundation.python.3.11_qbz5n2kfra8p0\\localcache\\local\\pypoetry\\cache\\virtualenvs\\poc-gdpr-cnt9rgik-py3.11\\lib\\site-packages (from great-expectations<2.0.0,>=1.4.4->poc-gdpr==0.1.0) (0.18.10)\n",
            "Requirement already satisfied: scipy>=1.6.0 in c:\\users\\l.iorio\\appdata\\local\\packages\\pythonsoftwarefoundation.python.3.11_qbz5n2kfra8p0\\localcache\\local\\pypoetry\\cache\\virtualenvs\\poc-gdpr-cnt9rgik-py3.11\\lib\\site-packages (from great-expectations<2.0.0,>=1.4.4->poc-gdpr==0.1.0) (1.15.3)\n",
            "Requirement already satisfied: tqdm>=4.59.0 in c:\\users\\l.iorio\\appdata\\local\\packages\\pythonsoftwarefoundation.python.3.11_qbz5n2kfra8p0\\localcache\\local\\pypoetry\\cache\\virtualenvs\\poc-gdpr-cnt9rgik-py3.11\\lib\\site-packages (from great-expectations<2.0.0,>=1.4.4->poc-gdpr==0.1.0) (4.67.1)\n",
            "Requirement already satisfied: typing-extensions>=4.1.0 in c:\\users\\l.iorio\\appdata\\local\\packages\\pythonsoftwarefoundation.python.3.11_qbz5n2kfra8p0\\localcache\\local\\pypoetry\\cache\\virtualenvs\\poc-gdpr-cnt9rgik-py3.11\\lib\\site-packages (from great-expectations<2.0.0,>=1.4.4->poc-gdpr==0.1.0) (4.13.2)\n",
            "Requirement already satisfied: tzlocal>=1.2 in c:\\users\\l.iorio\\appdata\\local\\packages\\pythonsoftwarefoundation.python.3.11_qbz5n2kfra8p0\\localcache\\local\\pypoetry\\cache\\virtualenvs\\poc-gdpr-cnt9rgik-py3.11\\lib\\site-packages (from great-expectations<2.0.0,>=1.4.4->poc-gdpr==0.1.0) (5.3.1)\n",
            "Requirement already satisfied: numpy>=1.22.4 in c:\\users\\l.iorio\\appdata\\local\\packages\\pythonsoftwarefoundation.python.3.11_qbz5n2kfra8p0\\localcache\\local\\pypoetry\\cache\\virtualenvs\\poc-gdpr-cnt9rgik-py3.11\\lib\\site-packages (from great-expectations<2.0.0,>=1.4.4->poc-gdpr==0.1.0) (2.0.2)\n",
            "Requirement already satisfied: pandas<2.2,>=1.3.0 in c:\\users\\l.iorio\\appdata\\local\\packages\\pythonsoftwarefoundation.python.3.11_qbz5n2kfra8p0\\localcache\\local\\pypoetry\\cache\\virtualenvs\\poc-gdpr-cnt9rgik-py3.11\\lib\\site-packages (from great-expectations<2.0.0,>=1.4.4->poc-gdpr==0.1.0) (2.1.1)\n",
            "Requirement already satisfied: colorama in c:\\users\\l.iorio\\appdata\\local\\packages\\pythonsoftwarefoundation.python.3.11_qbz5n2kfra8p0\\localcache\\local\\pypoetry\\cache\\virtualenvs\\poc-gdpr-cnt9rgik-py3.11\\lib\\site-packages (from ipython<10.0.0,>=9.2.0->poc-gdpr==0.1.0) (0.4.6)\n",
            "Requirement already satisfied: decorator in c:\\users\\l.iorio\\appdata\\local\\packages\\pythonsoftwarefoundation.python.3.11_qbz5n2kfra8p0\\localcache\\local\\pypoetry\\cache\\virtualenvs\\poc-gdpr-cnt9rgik-py3.11\\lib\\site-packages (from ipython<10.0.0,>=9.2.0->poc-gdpr==0.1.0) (5.2.1)\n",
            "Requirement already satisfied: ipython-pygments-lexers in c:\\users\\l.iorio\\appdata\\local\\packages\\pythonsoftwarefoundation.python.3.11_qbz5n2kfra8p0\\localcache\\local\\pypoetry\\cache\\virtualenvs\\poc-gdpr-cnt9rgik-py3.11\\lib\\site-packages (from ipython<10.0.0,>=9.2.0->poc-gdpr==0.1.0) (1.1.1)\n",
            "Requirement already satisfied: jedi>=0.16 in c:\\users\\l.iorio\\appdata\\local\\packages\\pythonsoftwarefoundation.python.3.11_qbz5n2kfra8p0\\localcache\\local\\pypoetry\\cache\\virtualenvs\\poc-gdpr-cnt9rgik-py3.11\\lib\\site-packages (from ipython<10.0.0,>=9.2.0->poc-gdpr==0.1.0) (0.19.2)\n",
            "Requirement already satisfied: matplotlib-inline in c:\\users\\l.iorio\\appdata\\local\\packages\\pythonsoftwarefoundation.python.3.11_qbz5n2kfra8p0\\localcache\\local\\pypoetry\\cache\\virtualenvs\\poc-gdpr-cnt9rgik-py3.11\\lib\\site-packages (from ipython<10.0.0,>=9.2.0->poc-gdpr==0.1.0) (0.1.7)\n",
            "Requirement already satisfied: prompt_toolkit<3.1.0,>=3.0.41 in c:\\users\\l.iorio\\appdata\\local\\packages\\pythonsoftwarefoundation.python.3.11_qbz5n2kfra8p0\\localcache\\local\\pypoetry\\cache\\virtualenvs\\poc-gdpr-cnt9rgik-py3.11\\lib\\site-packages (from ipython<10.0.0,>=9.2.0->poc-gdpr==0.1.0) (3.0.51)\n",
            "Requirement already satisfied: pygments>=2.4.0 in c:\\users\\l.iorio\\appdata\\local\\packages\\pythonsoftwarefoundation.python.3.11_qbz5n2kfra8p0\\localcache\\local\\pypoetry\\cache\\virtualenvs\\poc-gdpr-cnt9rgik-py3.11\\lib\\site-packages (from ipython<10.0.0,>=9.2.0->poc-gdpr==0.1.0) (2.19.1)\n",
            "Requirement already satisfied: stack_data in c:\\users\\l.iorio\\appdata\\local\\packages\\pythonsoftwarefoundation.python.3.11_qbz5n2kfra8p0\\localcache\\local\\pypoetry\\cache\\virtualenvs\\poc-gdpr-cnt9rgik-py3.11\\lib\\site-packages (from ipython<10.0.0,>=9.2.0->poc-gdpr==0.1.0) (0.6.3)\n",
            "Requirement already satisfied: traitlets>=5.13.0 in c:\\users\\l.iorio\\appdata\\local\\packages\\pythonsoftwarefoundation.python.3.11_qbz5n2kfra8p0\\localcache\\local\\pypoetry\\cache\\virtualenvs\\poc-gdpr-cnt9rgik-py3.11\\lib\\site-packages (from ipython<10.0.0,>=9.2.0->poc-gdpr==0.1.0) (5.14.3)\n",
            "Requirement already satisfied: joblib>=1.4.2 in c:\\users\\l.iorio\\appdata\\local\\packages\\pythonsoftwarefoundation.python.3.11_qbz5n2kfra8p0\\localcache\\local\\pypoetry\\cache\\virtualenvs\\poc-gdpr-cnt9rgik-py3.11\\lib\\site-packages (from mtcnn<2.0.0,>=1.0.0->poc-gdpr==0.1.0) (1.4.2)\n",
            "Requirement already satisfied: lz4>=4.3.3 in c:\\users\\l.iorio\\appdata\\local\\packages\\pythonsoftwarefoundation.python.3.11_qbz5n2kfra8p0\\localcache\\local\\pypoetry\\cache\\virtualenvs\\poc-gdpr-cnt9rgik-py3.11\\lib\\site-packages (from mtcnn<2.0.0,>=1.0.0->poc-gdpr==0.1.0) (4.4.4)\n",
            "Requirement already satisfied: griffe<2,>=1.5.6 in c:\\users\\l.iorio\\appdata\\local\\packages\\pythonsoftwarefoundation.python.3.11_qbz5n2kfra8p0\\localcache\\local\\pypoetry\\cache\\virtualenvs\\poc-gdpr-cnt9rgik-py3.11\\lib\\site-packages (from openai-agents<0.0.16,>=0.0.15->poc-gdpr==0.1.0) (1.7.3)\n",
            "Requirement already satisfied: mcp<2,>=1.8.0 in c:\\users\\l.iorio\\appdata\\local\\packages\\pythonsoftwarefoundation.python.3.11_qbz5n2kfra8p0\\localcache\\local\\pypoetry\\cache\\virtualenvs\\poc-gdpr-cnt9rgik-py3.11\\lib\\site-packages (from openai-agents<0.0.16,>=0.0.15->poc-gdpr==0.1.0) (1.9.0)\n",
            "Requirement already satisfied: openai>=1.76.0 in c:\\users\\l.iorio\\appdata\\local\\packages\\pythonsoftwarefoundation.python.3.11_qbz5n2kfra8p0\\localcache\\local\\pypoetry\\cache\\virtualenvs\\poc-gdpr-cnt9rgik-py3.11\\lib\\site-packages (from openai-agents<0.0.16,>=0.0.15->poc-gdpr==0.1.0) (1.79.0)\n",
            "Requirement already satisfied: types-requests<3,>=2.0 in c:\\users\\l.iorio\\appdata\\local\\packages\\pythonsoftwarefoundation.python.3.11_qbz5n2kfra8p0\\localcache\\local\\pypoetry\\cache\\virtualenvs\\poc-gdpr-cnt9rgik-py3.11\\lib\\site-packages (from openai-agents<0.0.16,>=0.0.15->poc-gdpr==0.1.0) (2.32.0.20250515)\n",
            "Requirement already satisfied: phonenumbers<9.0.0,>=8.12 in c:\\users\\l.iorio\\appdata\\local\\packages\\pythonsoftwarefoundation.python.3.11_qbz5n2kfra8p0\\localcache\\local\\pypoetry\\cache\\virtualenvs\\poc-gdpr-cnt9rgik-py3.11\\lib\\site-packages (from presidio-analyzer<3.0.0,>=2.2.358->poc-gdpr==0.1.0) (8.13.55)\n",
            "Requirement already satisfied: pyyaml in c:\\users\\l.iorio\\appdata\\local\\packages\\pythonsoftwarefoundation.python.3.11_qbz5n2kfra8p0\\localcache\\local\\pypoetry\\cache\\virtualenvs\\poc-gdpr-cnt9rgik-py3.11\\lib\\site-packages (from presidio-analyzer<3.0.0,>=2.2.358->poc-gdpr==0.1.0) (6.0.2)\n",
            "Requirement already satisfied: regex in c:\\users\\l.iorio\\appdata\\local\\packages\\pythonsoftwarefoundation.python.3.11_qbz5n2kfra8p0\\localcache\\local\\pypoetry\\cache\\virtualenvs\\poc-gdpr-cnt9rgik-py3.11\\lib\\site-packages (from presidio-analyzer<3.0.0,>=2.2.358->poc-gdpr==0.1.0) (2024.11.6)\n",
            "Requirement already satisfied: spacy!=3.7.0,<4.0.0,>=3.4.4 in c:\\users\\l.iorio\\appdata\\local\\packages\\pythonsoftwarefoundation.python.3.11_qbz5n2kfra8p0\\localcache\\local\\pypoetry\\cache\\virtualenvs\\poc-gdpr-cnt9rgik-py3.11\\lib\\site-packages (from presidio-analyzer<3.0.0,>=2.2.358->poc-gdpr==0.1.0) (3.8.5)\n",
            "Requirement already satisfied: tldextract in c:\\users\\l.iorio\\appdata\\local\\packages\\pythonsoftwarefoundation.python.3.11_qbz5n2kfra8p0\\localcache\\local\\pypoetry\\cache\\virtualenvs\\poc-gdpr-cnt9rgik-py3.11\\lib\\site-packages (from presidio-analyzer<3.0.0,>=2.2.358->poc-gdpr==0.1.0) (5.3.0)\n",
            "Requirement already satisfied: filelock in c:\\users\\l.iorio\\appdata\\local\\packages\\pythonsoftwarefoundation.python.3.11_qbz5n2kfra8p0\\localcache\\local\\pypoetry\\cache\\virtualenvs\\poc-gdpr-cnt9rgik-py3.11\\lib\\site-packages (from torch<3.0.0,>=2.7.0->poc-gdpr==0.1.0) (3.18.0)\n",
            "Requirement already satisfied: sympy>=1.13.3 in c:\\users\\l.iorio\\appdata\\local\\packages\\pythonsoftwarefoundation.python.3.11_qbz5n2kfra8p0\\localcache\\local\\pypoetry\\cache\\virtualenvs\\poc-gdpr-cnt9rgik-py3.11\\lib\\site-packages (from torch<3.0.0,>=2.7.0->poc-gdpr==0.1.0) (1.14.0)\n",
            "Requirement already satisfied: networkx in c:\\users\\l.iorio\\appdata\\local\\packages\\pythonsoftwarefoundation.python.3.11_qbz5n2kfra8p0\\localcache\\local\\pypoetry\\cache\\virtualenvs\\poc-gdpr-cnt9rgik-py3.11\\lib\\site-packages (from torch<3.0.0,>=2.7.0->poc-gdpr==0.1.0) (3.4.2)\n",
            "Requirement already satisfied: fsspec in c:\\users\\l.iorio\\appdata\\local\\packages\\pythonsoftwarefoundation.python.3.11_qbz5n2kfra8p0\\localcache\\local\\pypoetry\\cache\\virtualenvs\\poc-gdpr-cnt9rgik-py3.11\\lib\\site-packages (from torch<3.0.0,>=2.7.0->poc-gdpr==0.1.0) (2025.3.2)\n",
            "Requirement already satisfied: huggingface-hub<1.0,>=0.30.0 in c:\\users\\l.iorio\\appdata\\local\\packages\\pythonsoftwarefoundation.python.3.11_qbz5n2kfra8p0\\localcache\\local\\pypoetry\\cache\\virtualenvs\\poc-gdpr-cnt9rgik-py3.11\\lib\\site-packages (from transformers<5.0.0,>=4.51.3->poc-gdpr==0.1.0) (0.30.2)\n",
            "Requirement already satisfied: tokenizers<0.22,>=0.21 in c:\\users\\l.iorio\\appdata\\local\\packages\\pythonsoftwarefoundation.python.3.11_qbz5n2kfra8p0\\localcache\\local\\pypoetry\\cache\\virtualenvs\\poc-gdpr-cnt9rgik-py3.11\\lib\\site-packages (from transformers<5.0.0,>=4.51.3->poc-gdpr==0.1.0) (0.21.1)\n",
            "Requirement already satisfied: safetensors>=0.4.3 in c:\\users\\l.iorio\\appdata\\local\\packages\\pythonsoftwarefoundation.python.3.11_qbz5n2kfra8p0\\localcache\\local\\pypoetry\\cache\\virtualenvs\\poc-gdpr-cnt9rgik-py3.11\\lib\\site-packages (from transformers<5.0.0,>=4.51.3->poc-gdpr==0.1.0) (0.5.3)\n",
            "Requirement already satisfied: entrypoints in c:\\users\\l.iorio\\appdata\\local\\packages\\pythonsoftwarefoundation.python.3.11_qbz5n2kfra8p0\\localcache\\local\\pypoetry\\cache\\virtualenvs\\poc-gdpr-cnt9rgik-py3.11\\lib\\site-packages (from altair<5.0.0,>=4.2.1->great-expectations<2.0.0,>=1.4.4->poc-gdpr==0.1.0) (0.4)\n",
            "Requirement already satisfied: toolz in c:\\users\\l.iorio\\appdata\\local\\packages\\pythonsoftwarefoundation.python.3.11_qbz5n2kfra8p0\\localcache\\local\\pypoetry\\cache\\virtualenvs\\poc-gdpr-cnt9rgik-py3.11\\lib\\site-packages (from altair<5.0.0,>=4.2.1->great-expectations<2.0.0,>=1.4.4->poc-gdpr==0.1.0) (1.0.0)\n",
            "Requirement already satisfied: cffi>=1.12 in c:\\users\\l.iorio\\appdata\\local\\packages\\pythonsoftwarefoundation.python.3.11_qbz5n2kfra8p0\\localcache\\local\\pypoetry\\cache\\virtualenvs\\poc-gdpr-cnt9rgik-py3.11\\lib\\site-packages (from cryptography>=3.2->great-expectations<2.0.0,>=1.4.4->poc-gdpr==0.1.0) (1.17.1)\n",
            "Requirement already satisfied: pyreadline3 in c:\\users\\l.iorio\\appdata\\local\\packages\\pythonsoftwarefoundation.python.3.11_qbz5n2kfra8p0\\localcache\\local\\pypoetry\\cache\\virtualenvs\\poc-gdpr-cnt9rgik-py3.11\\lib\\site-packages (from humanfriendly>=9.1->coloredlogs<16.0.0,>=15.0.1->poc-gdpr==0.1.0) (3.5.4)\n",
            "Requirement already satisfied: parso<0.9.0,>=0.8.4 in c:\\users\\l.iorio\\appdata\\local\\packages\\pythonsoftwarefoundation.python.3.11_qbz5n2kfra8p0\\localcache\\local\\pypoetry\\cache\\virtualenvs\\poc-gdpr-cnt9rgik-py3.11\\lib\\site-packages (from jedi>=0.16->ipython<10.0.0,>=9.2.0->poc-gdpr==0.1.0) (0.8.4)\n",
            "Requirement already satisfied: MarkupSafe>=2.0 in c:\\users\\l.iorio\\appdata\\local\\packages\\pythonsoftwarefoundation.python.3.11_qbz5n2kfra8p0\\localcache\\local\\pypoetry\\cache\\virtualenvs\\poc-gdpr-cnt9rgik-py3.11\\lib\\site-packages (from jinja2>=3->great-expectations<2.0.0,>=1.4.4->poc-gdpr==0.1.0) (3.0.2)\n",
            "Requirement already satisfied: attrs>=22.2.0 in c:\\users\\l.iorio\\appdata\\local\\packages\\pythonsoftwarefoundation.python.3.11_qbz5n2kfra8p0\\localcache\\local\\pypoetry\\cache\\virtualenvs\\poc-gdpr-cnt9rgik-py3.11\\lib\\site-packages (from jsonschema>=2.5.1->great-expectations<2.0.0,>=1.4.4->poc-gdpr==0.1.0) (25.3.0)\n",
            "Requirement already satisfied: jsonschema-specifications>=2023.03.6 in c:\\users\\l.iorio\\appdata\\local\\packages\\pythonsoftwarefoundation.python.3.11_qbz5n2kfra8p0\\localcache\\local\\pypoetry\\cache\\virtualenvs\\poc-gdpr-cnt9rgik-py3.11\\lib\\site-packages (from jsonschema>=2.5.1->great-expectations<2.0.0,>=1.4.4->poc-gdpr==0.1.0) (2025.4.1)\n",
            "Requirement already satisfied: referencing>=0.28.4 in c:\\users\\l.iorio\\appdata\\local\\packages\\pythonsoftwarefoundation.python.3.11_qbz5n2kfra8p0\\localcache\\local\\pypoetry\\cache\\virtualenvs\\poc-gdpr-cnt9rgik-py3.11\\lib\\site-packages (from jsonschema>=2.5.1->great-expectations<2.0.0,>=1.4.4->poc-gdpr==0.1.0) (0.36.2)\n",
            "Requirement already satisfied: rpds-py>=0.7.1 in c:\\users\\l.iorio\\appdata\\local\\packages\\pythonsoftwarefoundation.python.3.11_qbz5n2kfra8p0\\localcache\\local\\pypoetry\\cache\\virtualenvs\\poc-gdpr-cnt9rgik-py3.11\\lib\\site-packages (from jsonschema>=2.5.1->great-expectations<2.0.0,>=1.4.4->poc-gdpr==0.1.0) (0.25.0)\n",
            "Requirement already satisfied: anyio>=4.5 in c:\\users\\l.iorio\\appdata\\local\\packages\\pythonsoftwarefoundation.python.3.11_qbz5n2kfra8p0\\localcache\\local\\pypoetry\\cache\\virtualenvs\\poc-gdpr-cnt9rgik-py3.11\\lib\\site-packages (from mcp<2,>=1.8.0->openai-agents<0.0.16,>=0.0.15->poc-gdpr==0.1.0) (4.9.0)\n",
            "Requirement already satisfied: httpx-sse>=0.4 in c:\\users\\l.iorio\\appdata\\local\\packages\\pythonsoftwarefoundation.python.3.11_qbz5n2kfra8p0\\localcache\\local\\pypoetry\\cache\\virtualenvs\\poc-gdpr-cnt9rgik-py3.11\\lib\\site-packages (from mcp<2,>=1.8.0->openai-agents<0.0.16,>=0.0.15->poc-gdpr==0.1.0) (0.4.0)\n",
            "Requirement already satisfied: httpx>=0.27 in c:\\users\\l.iorio\\appdata\\local\\packages\\pythonsoftwarefoundation.python.3.11_qbz5n2kfra8p0\\localcache\\local\\pypoetry\\cache\\virtualenvs\\poc-gdpr-cnt9rgik-py3.11\\lib\\site-packages (from mcp<2,>=1.8.0->openai-agents<0.0.16,>=0.0.15->poc-gdpr==0.1.0) (0.28.1)\n",
            "Requirement already satisfied: pydantic-settings>=2.5.2 in c:\\users\\l.iorio\\appdata\\local\\packages\\pythonsoftwarefoundation.python.3.11_qbz5n2kfra8p0\\localcache\\local\\pypoetry\\cache\\virtualenvs\\poc-gdpr-cnt9rgik-py3.11\\lib\\site-packages (from mcp<2,>=1.8.0->openai-agents<0.0.16,>=0.0.15->poc-gdpr==0.1.0) (2.9.1)\n",
            "Requirement already satisfied: python-multipart>=0.0.9 in c:\\users\\l.iorio\\appdata\\local\\packages\\pythonsoftwarefoundation.python.3.11_qbz5n2kfra8p0\\localcache\\local\\pypoetry\\cache\\virtualenvs\\poc-gdpr-cnt9rgik-py3.11\\lib\\site-packages (from mcp<2,>=1.8.0->openai-agents<0.0.16,>=0.0.15->poc-gdpr==0.1.0) (0.0.20)\n",
            "Requirement already satisfied: sse-starlette>=1.6.1 in c:\\users\\l.iorio\\appdata\\local\\packages\\pythonsoftwarefoundation.python.3.11_qbz5n2kfra8p0\\localcache\\local\\pypoetry\\cache\\virtualenvs\\poc-gdpr-cnt9rgik-py3.11\\lib\\site-packages (from mcp<2,>=1.8.0->openai-agents<0.0.16,>=0.0.15->poc-gdpr==0.1.0) (2.3.5)\n",
            "Requirement already satisfied: starlette>=0.27 in c:\\users\\l.iorio\\appdata\\local\\packages\\pythonsoftwarefoundation.python.3.11_qbz5n2kfra8p0\\localcache\\local\\pypoetry\\cache\\virtualenvs\\poc-gdpr-cnt9rgik-py3.11\\lib\\site-packages (from mcp<2,>=1.8.0->openai-agents<0.0.16,>=0.0.15->poc-gdpr==0.1.0) (0.46.2)\n",
            "Requirement already satisfied: uvicorn>=0.23.1 in c:\\users\\l.iorio\\appdata\\local\\packages\\pythonsoftwarefoundation.python.3.11_qbz5n2kfra8p0\\localcache\\local\\pypoetry\\cache\\virtualenvs\\poc-gdpr-cnt9rgik-py3.11\\lib\\site-packages (from mcp<2,>=1.8.0->openai-agents<0.0.16,>=0.0.15->poc-gdpr==0.1.0) (0.34.2)\n",
            "Requirement already satisfied: distro<2,>=1.7.0 in c:\\users\\l.iorio\\appdata\\local\\packages\\pythonsoftwarefoundation.python.3.11_qbz5n2kfra8p0\\localcache\\local\\pypoetry\\cache\\virtualenvs\\poc-gdpr-cnt9rgik-py3.11\\lib\\site-packages (from openai>=1.76.0->openai-agents<0.0.16,>=0.0.15->poc-gdpr==0.1.0) (1.9.0)\n",
            "Requirement already satisfied: jiter<1,>=0.4.0 in c:\\users\\l.iorio\\appdata\\local\\packages\\pythonsoftwarefoundation.python.3.11_qbz5n2kfra8p0\\localcache\\local\\pypoetry\\cache\\virtualenvs\\poc-gdpr-cnt9rgik-py3.11\\lib\\site-packages (from openai>=1.76.0->openai-agents<0.0.16,>=0.0.15->poc-gdpr==0.1.0) (0.9.0)\n",
            "Requirement already satisfied: sniffio in c:\\users\\l.iorio\\appdata\\local\\packages\\pythonsoftwarefoundation.python.3.11_qbz5n2kfra8p0\\localcache\\local\\pypoetry\\cache\\virtualenvs\\poc-gdpr-cnt9rgik-py3.11\\lib\\site-packages (from openai>=1.76.0->openai-agents<0.0.16,>=0.0.15->poc-gdpr==0.1.0) (1.3.1)\n",
            "Requirement already satisfied: pytz>=2020.1 in c:\\users\\l.iorio\\appdata\\local\\packages\\pythonsoftwarefoundation.python.3.11_qbz5n2kfra8p0\\localcache\\local\\pypoetry\\cache\\virtualenvs\\poc-gdpr-cnt9rgik-py3.11\\lib\\site-packages (from pandas<2.2,>=1.3.0->great-expectations<2.0.0,>=1.4.4->poc-gdpr==0.1.0) (2025.2)\n",
            "Requirement already satisfied: tzdata>=2022.1 in c:\\users\\l.iorio\\appdata\\local\\packages\\pythonsoftwarefoundation.python.3.11_qbz5n2kfra8p0\\localcache\\local\\pypoetry\\cache\\virtualenvs\\poc-gdpr-cnt9rgik-py3.11\\lib\\site-packages (from pandas<2.2,>=1.3.0->great-expectations<2.0.0,>=1.4.4->poc-gdpr==0.1.0) (2025.2)\n",
            "Requirement already satisfied: six>=1.5 in c:\\users\\l.iorio\\appdata\\local\\packages\\pythonsoftwarefoundation.python.3.11_qbz5n2kfra8p0\\localcache\\local\\pypoetry\\cache\\virtualenvs\\poc-gdpr-cnt9rgik-py3.11\\lib\\site-packages (from posthog<4,>3->great-expectations<2.0.0,>=1.4.4->poc-gdpr==0.1.0) (1.17.0)\n",
            "Requirement already satisfied: monotonic>=1.5 in c:\\users\\l.iorio\\appdata\\local\\packages\\pythonsoftwarefoundation.python.3.11_qbz5n2kfra8p0\\localcache\\local\\pypoetry\\cache\\virtualenvs\\poc-gdpr-cnt9rgik-py3.11\\lib\\site-packages (from posthog<4,>3->great-expectations<2.0.0,>=1.4.4->poc-gdpr==0.1.0) (1.6)\n",
            "Requirement already satisfied: backoff>=1.10.0 in c:\\users\\l.iorio\\appdata\\local\\packages\\pythonsoftwarefoundation.python.3.11_qbz5n2kfra8p0\\localcache\\local\\pypoetry\\cache\\virtualenvs\\poc-gdpr-cnt9rgik-py3.11\\lib\\site-packages (from posthog<4,>3->great-expectations<2.0.0,>=1.4.4->poc-gdpr==0.1.0) (2.2.1)\n",
            "Requirement already satisfied: wcwidth in c:\\users\\l.iorio\\appdata\\local\\packages\\pythonsoftwarefoundation.python.3.11_qbz5n2kfra8p0\\localcache\\local\\pypoetry\\cache\\virtualenvs\\poc-gdpr-cnt9rgik-py3.11\\lib\\site-packages (from prompt_toolkit<3.1.0,>=3.0.41->ipython<10.0.0,>=9.2.0->poc-gdpr==0.1.0) (0.2.13)\n",
            "Requirement already satisfied: annotated-types>=0.6.0 in c:\\users\\l.iorio\\appdata\\local\\packages\\pythonsoftwarefoundation.python.3.11_qbz5n2kfra8p0\\localcache\\local\\pypoetry\\cache\\virtualenvs\\poc-gdpr-cnt9rgik-py3.11\\lib\\site-packages (from pydantic>=1.10.7->great-expectations<2.0.0,>=1.4.4->poc-gdpr==0.1.0) (0.7.0)\n",
            "Requirement already satisfied: pydantic-core==2.33.1 in c:\\users\\l.iorio\\appdata\\local\\packages\\pythonsoftwarefoundation.python.3.11_qbz5n2kfra8p0\\localcache\\local\\pypoetry\\cache\\virtualenvs\\poc-gdpr-cnt9rgik-py3.11\\lib\\site-packages (from pydantic>=1.10.7->great-expectations<2.0.0,>=1.4.4->poc-gdpr==0.1.0) (2.33.1)\n",
            "Requirement already satisfied: typing-inspection>=0.4.0 in c:\\users\\l.iorio\\appdata\\local\\packages\\pythonsoftwarefoundation.python.3.11_qbz5n2kfra8p0\\localcache\\local\\pypoetry\\cache\\virtualenvs\\poc-gdpr-cnt9rgik-py3.11\\lib\\site-packages (from pydantic>=1.10.7->great-expectations<2.0.0,>=1.4.4->poc-gdpr==0.1.0) (0.4.0)\n",
            "Requirement already satisfied: charset-normalizer<4,>=2 in c:\\users\\l.iorio\\appdata\\local\\packages\\pythonsoftwarefoundation.python.3.11_qbz5n2kfra8p0\\localcache\\local\\pypoetry\\cache\\virtualenvs\\poc-gdpr-cnt9rgik-py3.11\\lib\\site-packages (from requests>=2.20->great-expectations<2.0.0,>=1.4.4->poc-gdpr==0.1.0) (3.4.1)\n",
            "Requirement already satisfied: idna<4,>=2.5 in c:\\users\\l.iorio\\appdata\\local\\packages\\pythonsoftwarefoundation.python.3.11_qbz5n2kfra8p0\\localcache\\local\\pypoetry\\cache\\virtualenvs\\poc-gdpr-cnt9rgik-py3.11\\lib\\site-packages (from requests>=2.20->great-expectations<2.0.0,>=1.4.4->poc-gdpr==0.1.0) (3.10)\n",
            "Requirement already satisfied: urllib3<3,>=1.21.1 in c:\\users\\l.iorio\\appdata\\local\\packages\\pythonsoftwarefoundation.python.3.11_qbz5n2kfra8p0\\localcache\\local\\pypoetry\\cache\\virtualenvs\\poc-gdpr-cnt9rgik-py3.11\\lib\\site-packages (from requests>=2.20->great-expectations<2.0.0,>=1.4.4->poc-gdpr==0.1.0) (2.4.0)\n",
            "Requirement already satisfied: certifi>=2017.4.17 in c:\\users\\l.iorio\\appdata\\local\\packages\\pythonsoftwarefoundation.python.3.11_qbz5n2kfra8p0\\localcache\\local\\pypoetry\\cache\\virtualenvs\\poc-gdpr-cnt9rgik-py3.11\\lib\\site-packages (from requests>=2.20->great-expectations<2.0.0,>=1.4.4->poc-gdpr==0.1.0) (2025.4.26)\n",
            "Requirement already satisfied: ruamel.yaml.clib>=0.2.7 in c:\\users\\l.iorio\\appdata\\local\\packages\\pythonsoftwarefoundation.python.3.11_qbz5n2kfra8p0\\localcache\\local\\pypoetry\\cache\\virtualenvs\\poc-gdpr-cnt9rgik-py3.11\\lib\\site-packages (from ruamel.yaml>=0.16->great-expectations<2.0.0,>=1.4.4->poc-gdpr==0.1.0) (0.2.12)\n",
            "Requirement already satisfied: spacy-legacy<3.1.0,>=3.0.11 in c:\\users\\l.iorio\\appdata\\local\\packages\\pythonsoftwarefoundation.python.3.11_qbz5n2kfra8p0\\localcache\\local\\pypoetry\\cache\\virtualenvs\\poc-gdpr-cnt9rgik-py3.11\\lib\\site-packages (from spacy!=3.7.0,<4.0.0,>=3.4.4->presidio-analyzer<3.0.0,>=2.2.358->poc-gdpr==0.1.0) (3.0.12)\n",
            "Requirement already satisfied: spacy-loggers<2.0.0,>=1.0.0 in c:\\users\\l.iorio\\appdata\\local\\packages\\pythonsoftwarefoundation.python.3.11_qbz5n2kfra8p0\\localcache\\local\\pypoetry\\cache\\virtualenvs\\poc-gdpr-cnt9rgik-py3.11\\lib\\site-packages (from spacy!=3.7.0,<4.0.0,>=3.4.4->presidio-analyzer<3.0.0,>=2.2.358->poc-gdpr==0.1.0) (1.0.5)\n",
            "Requirement already satisfied: murmurhash<1.1.0,>=0.28.0 in c:\\users\\l.iorio\\appdata\\local\\packages\\pythonsoftwarefoundation.python.3.11_qbz5n2kfra8p0\\localcache\\local\\pypoetry\\cache\\virtualenvs\\poc-gdpr-cnt9rgik-py3.11\\lib\\site-packages (from spacy!=3.7.0,<4.0.0,>=3.4.4->presidio-analyzer<3.0.0,>=2.2.358->poc-gdpr==0.1.0) (1.0.12)\n",
            "Requirement already satisfied: cymem<2.1.0,>=2.0.2 in c:\\users\\l.iorio\\appdata\\local\\packages\\pythonsoftwarefoundation.python.3.11_qbz5n2kfra8p0\\localcache\\local\\pypoetry\\cache\\virtualenvs\\poc-gdpr-cnt9rgik-py3.11\\lib\\site-packages (from spacy!=3.7.0,<4.0.0,>=3.4.4->presidio-analyzer<3.0.0,>=2.2.358->poc-gdpr==0.1.0) (2.0.11)\n",
            "Requirement already satisfied: preshed<3.1.0,>=3.0.2 in c:\\users\\l.iorio\\appdata\\local\\packages\\pythonsoftwarefoundation.python.3.11_qbz5n2kfra8p0\\localcache\\local\\pypoetry\\cache\\virtualenvs\\poc-gdpr-cnt9rgik-py3.11\\lib\\site-packages (from spacy!=3.7.0,<4.0.0,>=3.4.4->presidio-analyzer<3.0.0,>=2.2.358->poc-gdpr==0.1.0) (3.0.9)\n",
            "Requirement already satisfied: thinc<8.4.0,>=8.3.4 in c:\\users\\l.iorio\\appdata\\local\\packages\\pythonsoftwarefoundation.python.3.11_qbz5n2kfra8p0\\localcache\\local\\pypoetry\\cache\\virtualenvs\\poc-gdpr-cnt9rgik-py3.11\\lib\\site-packages (from spacy!=3.7.0,<4.0.0,>=3.4.4->presidio-analyzer<3.0.0,>=2.2.358->poc-gdpr==0.1.0) (8.3.6)\n",
            "Requirement already satisfied: wasabi<1.2.0,>=0.9.1 in c:\\users\\l.iorio\\appdata\\local\\packages\\pythonsoftwarefoundation.python.3.11_qbz5n2kfra8p0\\localcache\\local\\pypoetry\\cache\\virtualenvs\\poc-gdpr-cnt9rgik-py3.11\\lib\\site-packages (from spacy!=3.7.0,<4.0.0,>=3.4.4->presidio-analyzer<3.0.0,>=2.2.358->poc-gdpr==0.1.0) (1.1.3)\n",
            "Requirement already satisfied: srsly<3.0.0,>=2.4.3 in c:\\users\\l.iorio\\appdata\\local\\packages\\pythonsoftwarefoundation.python.3.11_qbz5n2kfra8p0\\localcache\\local\\pypoetry\\cache\\virtualenvs\\poc-gdpr-cnt9rgik-py3.11\\lib\\site-packages (from spacy!=3.7.0,<4.0.0,>=3.4.4->presidio-analyzer<3.0.0,>=2.2.358->poc-gdpr==0.1.0) (2.5.1)\n",
            "Requirement already satisfied: catalogue<2.1.0,>=2.0.6 in c:\\users\\l.iorio\\appdata\\local\\packages\\pythonsoftwarefoundation.python.3.11_qbz5n2kfra8p0\\localcache\\local\\pypoetry\\cache\\virtualenvs\\poc-gdpr-cnt9rgik-py3.11\\lib\\site-packages (from spacy!=3.7.0,<4.0.0,>=3.4.4->presidio-analyzer<3.0.0,>=2.2.358->poc-gdpr==0.1.0) (2.0.10)\n",
            "Requirement already satisfied: weasel<0.5.0,>=0.1.0 in c:\\users\\l.iorio\\appdata\\local\\packages\\pythonsoftwarefoundation.python.3.11_qbz5n2kfra8p0\\localcache\\local\\pypoetry\\cache\\virtualenvs\\poc-gdpr-cnt9rgik-py3.11\\lib\\site-packages (from spacy!=3.7.0,<4.0.0,>=3.4.4->presidio-analyzer<3.0.0,>=2.2.358->poc-gdpr==0.1.0) (0.4.1)\n",
            "Requirement already satisfied: typer<1.0.0,>=0.3.0 in c:\\users\\l.iorio\\appdata\\local\\packages\\pythonsoftwarefoundation.python.3.11_qbz5n2kfra8p0\\localcache\\local\\pypoetry\\cache\\virtualenvs\\poc-gdpr-cnt9rgik-py3.11\\lib\\site-packages (from spacy!=3.7.0,<4.0.0,>=3.4.4->presidio-analyzer<3.0.0,>=2.2.358->poc-gdpr==0.1.0) (0.15.3)\n",
            "Requirement already satisfied: setuptools in c:\\users\\l.iorio\\appdata\\local\\packages\\pythonsoftwarefoundation.python.3.11_qbz5n2kfra8p0\\localcache\\local\\pypoetry\\cache\\virtualenvs\\poc-gdpr-cnt9rgik-py3.11\\lib\\site-packages (from spacy!=3.7.0,<4.0.0,>=3.4.4->presidio-analyzer<3.0.0,>=2.2.358->poc-gdpr==0.1.0) (80.0.0)\n",
            "Requirement already satisfied: langcodes<4.0.0,>=3.2.0 in c:\\users\\l.iorio\\appdata\\local\\packages\\pythonsoftwarefoundation.python.3.11_qbz5n2kfra8p0\\localcache\\local\\pypoetry\\cache\\virtualenvs\\poc-gdpr-cnt9rgik-py3.11\\lib\\site-packages (from spacy!=3.7.0,<4.0.0,>=3.4.4->presidio-analyzer<3.0.0,>=2.2.358->poc-gdpr==0.1.0) (3.5.0)\n",
            "Requirement already satisfied: mpmath<1.4,>=1.1.0 in c:\\users\\l.iorio\\appdata\\local\\packages\\pythonsoftwarefoundation.python.3.11_qbz5n2kfra8p0\\localcache\\local\\pypoetry\\cache\\virtualenvs\\poc-gdpr-cnt9rgik-py3.11\\lib\\site-packages (from sympy>=1.13.3->torch<3.0.0,>=2.7.0->poc-gdpr==0.1.0) (1.3.0)\n",
            "Requirement already satisfied: executing>=1.2.0 in c:\\users\\l.iorio\\appdata\\local\\packages\\pythonsoftwarefoundation.python.3.11_qbz5n2kfra8p0\\localcache\\local\\pypoetry\\cache\\virtualenvs\\poc-gdpr-cnt9rgik-py3.11\\lib\\site-packages (from stack_data->ipython<10.0.0,>=9.2.0->poc-gdpr==0.1.0) (2.2.0)\n",
            "Requirement already satisfied: asttokens>=2.1.0 in c:\\users\\l.iorio\\appdata\\local\\packages\\pythonsoftwarefoundation.python.3.11_qbz5n2kfra8p0\\localcache\\local\\pypoetry\\cache\\virtualenvs\\poc-gdpr-cnt9rgik-py3.11\\lib\\site-packages (from stack_data->ipython<10.0.0,>=9.2.0->poc-gdpr==0.1.0) (3.0.0)\n",
            "Requirement already satisfied: pure-eval in c:\\users\\l.iorio\\appdata\\local\\packages\\pythonsoftwarefoundation.python.3.11_qbz5n2kfra8p0\\localcache\\local\\pypoetry\\cache\\virtualenvs\\poc-gdpr-cnt9rgik-py3.11\\lib\\site-packages (from stack_data->ipython<10.0.0,>=9.2.0->poc-gdpr==0.1.0) (0.2.3)\n",
            "Requirement already satisfied: requests-file>=1.4 in c:\\users\\l.iorio\\appdata\\local\\packages\\pythonsoftwarefoundation.python.3.11_qbz5n2kfra8p0\\localcache\\local\\pypoetry\\cache\\virtualenvs\\poc-gdpr-cnt9rgik-py3.11\\lib\\site-packages (from tldextract->presidio-analyzer<3.0.0,>=2.2.358->poc-gdpr==0.1.0) (2.1.0)\n",
            "Requirement already satisfied: pycparser in c:\\users\\l.iorio\\appdata\\local\\packages\\pythonsoftwarefoundation.python.3.11_qbz5n2kfra8p0\\localcache\\local\\pypoetry\\cache\\virtualenvs\\poc-gdpr-cnt9rgik-py3.11\\lib\\site-packages (from cffi>=1.12->cryptography>=3.2->great-expectations<2.0.0,>=1.4.4->poc-gdpr==0.1.0) (2.22)\n",
            "Requirement already satisfied: httpcore==1.* in c:\\users\\l.iorio\\appdata\\local\\packages\\pythonsoftwarefoundation.python.3.11_qbz5n2kfra8p0\\localcache\\local\\pypoetry\\cache\\virtualenvs\\poc-gdpr-cnt9rgik-py3.11\\lib\\site-packages (from httpx>=0.27->mcp<2,>=1.8.0->openai-agents<0.0.16,>=0.0.15->poc-gdpr==0.1.0) (1.0.9)\n",
            "Requirement already satisfied: h11>=0.16 in c:\\users\\l.iorio\\appdata\\local\\packages\\pythonsoftwarefoundation.python.3.11_qbz5n2kfra8p0\\localcache\\local\\pypoetry\\cache\\virtualenvs\\poc-gdpr-cnt9rgik-py3.11\\lib\\site-packages (from httpcore==1.*->httpx>=0.27->mcp<2,>=1.8.0->openai-agents<0.0.16,>=0.0.15->poc-gdpr==0.1.0) (0.16.0)\n",
            "Requirement already satisfied: language-data>=1.2 in c:\\users\\l.iorio\\appdata\\local\\packages\\pythonsoftwarefoundation.python.3.11_qbz5n2kfra8p0\\localcache\\local\\pypoetry\\cache\\virtualenvs\\poc-gdpr-cnt9rgik-py3.11\\lib\\site-packages (from langcodes<4.0.0,>=3.2.0->spacy!=3.7.0,<4.0.0,>=3.4.4->presidio-analyzer<3.0.0,>=2.2.358->poc-gdpr==0.1.0) (1.3.0)\n",
            "Requirement already satisfied: python-dotenv>=0.21.0 in c:\\users\\l.iorio\\appdata\\local\\packages\\pythonsoftwarefoundation.python.3.11_qbz5n2kfra8p0\\localcache\\local\\pypoetry\\cache\\virtualenvs\\poc-gdpr-cnt9rgik-py3.11\\lib\\site-packages (from pydantic-settings>=2.5.2->mcp<2,>=1.8.0->openai-agents<0.0.16,>=0.0.15->poc-gdpr==0.1.0) (1.1.0)\n",
            "Requirement already satisfied: blis<1.4.0,>=1.3.0 in c:\\users\\l.iorio\\appdata\\local\\packages\\pythonsoftwarefoundation.python.3.11_qbz5n2kfra8p0\\localcache\\local\\pypoetry\\cache\\virtualenvs\\poc-gdpr-cnt9rgik-py3.11\\lib\\site-packages (from thinc<8.4.0,>=8.3.4->spacy!=3.7.0,<4.0.0,>=3.4.4->presidio-analyzer<3.0.0,>=2.2.358->poc-gdpr==0.1.0) (1.3.0)\n",
            "Requirement already satisfied: confection<1.0.0,>=0.0.1 in c:\\users\\l.iorio\\appdata\\local\\packages\\pythonsoftwarefoundation.python.3.11_qbz5n2kfra8p0\\localcache\\local\\pypoetry\\cache\\virtualenvs\\poc-gdpr-cnt9rgik-py3.11\\lib\\site-packages (from thinc<8.4.0,>=8.3.4->spacy!=3.7.0,<4.0.0,>=3.4.4->presidio-analyzer<3.0.0,>=2.2.358->poc-gdpr==0.1.0) (0.1.5)\n",
            "Requirement already satisfied: click>=8.0.0 in c:\\users\\l.iorio\\appdata\\local\\packages\\pythonsoftwarefoundation.python.3.11_qbz5n2kfra8p0\\localcache\\local\\pypoetry\\cache\\virtualenvs\\poc-gdpr-cnt9rgik-py3.11\\lib\\site-packages (from typer<1.0.0,>=0.3.0->spacy!=3.7.0,<4.0.0,>=3.4.4->presidio-analyzer<3.0.0,>=2.2.358->poc-gdpr==0.1.0) (8.1.8)\n",
            "Requirement already satisfied: shellingham>=1.3.0 in c:\\users\\l.iorio\\appdata\\local\\packages\\pythonsoftwarefoundation.python.3.11_qbz5n2kfra8p0\\localcache\\local\\pypoetry\\cache\\virtualenvs\\poc-gdpr-cnt9rgik-py3.11\\lib\\site-packages (from typer<1.0.0,>=0.3.0->spacy!=3.7.0,<4.0.0,>=3.4.4->presidio-analyzer<3.0.0,>=2.2.358->poc-gdpr==0.1.0) (1.5.4)\n",
            "Requirement already satisfied: rich>=10.11.0 in c:\\users\\l.iorio\\appdata\\local\\packages\\pythonsoftwarefoundation.python.3.11_qbz5n2kfra8p0\\localcache\\local\\pypoetry\\cache\\virtualenvs\\poc-gdpr-cnt9rgik-py3.11\\lib\\site-packages (from typer<1.0.0,>=0.3.0->spacy!=3.7.0,<4.0.0,>=3.4.4->presidio-analyzer<3.0.0,>=2.2.358->poc-gdpr==0.1.0) (14.0.0)\n",
            "Requirement already satisfied: cloudpathlib<1.0.0,>=0.7.0 in c:\\users\\l.iorio\\appdata\\local\\packages\\pythonsoftwarefoundation.python.3.11_qbz5n2kfra8p0\\localcache\\local\\pypoetry\\cache\\virtualenvs\\poc-gdpr-cnt9rgik-py3.11\\lib\\site-packages (from weasel<0.5.0,>=0.1.0->spacy!=3.7.0,<4.0.0,>=3.4.4->presidio-analyzer<3.0.0,>=2.2.358->poc-gdpr==0.1.0) (0.21.0)\n",
            "Requirement already satisfied: smart-open<8.0.0,>=5.2.1 in c:\\users\\l.iorio\\appdata\\local\\packages\\pythonsoftwarefoundation.python.3.11_qbz5n2kfra8p0\\localcache\\local\\pypoetry\\cache\\virtualenvs\\poc-gdpr-cnt9rgik-py3.11\\lib\\site-packages (from weasel<0.5.0,>=0.1.0->spacy!=3.7.0,<4.0.0,>=3.4.4->presidio-analyzer<3.0.0,>=2.2.358->poc-gdpr==0.1.0) (7.1.0)\n",
            "Requirement already satisfied: marisa-trie>=1.1.0 in c:\\users\\l.iorio\\appdata\\local\\packages\\pythonsoftwarefoundation.python.3.11_qbz5n2kfra8p0\\localcache\\local\\pypoetry\\cache\\virtualenvs\\poc-gdpr-cnt9rgik-py3.11\\lib\\site-packages (from language-data>=1.2->langcodes<4.0.0,>=3.2.0->spacy!=3.7.0,<4.0.0,>=3.4.4->presidio-analyzer<3.0.0,>=2.2.358->poc-gdpr==0.1.0) (1.2.1)\n",
            "Requirement already satisfied: markdown-it-py>=2.2.0 in c:\\users\\l.iorio\\appdata\\local\\packages\\pythonsoftwarefoundation.python.3.11_qbz5n2kfra8p0\\localcache\\local\\pypoetry\\cache\\virtualenvs\\poc-gdpr-cnt9rgik-py3.11\\lib\\site-packages (from rich>=10.11.0->typer<1.0.0,>=0.3.0->spacy!=3.7.0,<4.0.0,>=3.4.4->presidio-analyzer<3.0.0,>=2.2.358->poc-gdpr==0.1.0) (3.0.0)\n",
            "Requirement already satisfied: wrapt in c:\\users\\l.iorio\\appdata\\local\\packages\\pythonsoftwarefoundation.python.3.11_qbz5n2kfra8p0\\localcache\\local\\pypoetry\\cache\\virtualenvs\\poc-gdpr-cnt9rgik-py3.11\\lib\\site-packages (from smart-open<8.0.0,>=5.2.1->weasel<0.5.0,>=0.1.0->spacy!=3.7.0,<4.0.0,>=3.4.4->presidio-analyzer<3.0.0,>=2.2.358->poc-gdpr==0.1.0) (1.17.2)\n",
            "Requirement already satisfied: mdurl~=0.1 in c:\\users\\l.iorio\\appdata\\local\\packages\\pythonsoftwarefoundation.python.3.11_qbz5n2kfra8p0\\localcache\\local\\pypoetry\\cache\\virtualenvs\\poc-gdpr-cnt9rgik-py3.11\\lib\\site-packages (from markdown-it-py>=2.2.0->rich>=10.11.0->typer<1.0.0,>=0.3.0->spacy!=3.7.0,<4.0.0,>=3.4.4->presidio-analyzer<3.0.0,>=2.2.358->poc-gdpr==0.1.0) (0.1.2)\n",
            "Building wheels for collected packages: poc-gdpr\n",
            "  Building editable for poc-gdpr (pyproject.toml): started\n",
            "  Building editable for poc-gdpr (pyproject.toml): finished with status 'done'\n",
            "  Created wheel for poc-gdpr: filename=poc_gdpr-0.1.0-py3-none-any.whl size=1244 sha256=401d924fd4bf4590d36baad360d3ebd068e63f2a2451baf1f9d8d7776ceec0dc\n",
            "  Stored in directory: C:\\Users\\l.iorio\\AppData\\Local\\Temp\\pip-ephem-wheel-cache-6abspw13\\wheels\\22\\1f\\f9\\21d62042cb2fb75d21ea0643ad68f6724243dd19fe426abf37\n",
            "Successfully built poc-gdpr\n",
            "Installing collected packages: poc-gdpr\n",
            "  Attempting uninstall: poc-gdpr\n",
            "    Found existing installation: poc-gdpr 0.1.0\n",
            "    Uninstalling poc-gdpr-0.1.0:\n",
            "      Successfully uninstalled poc-gdpr-0.1.0\n",
            "Successfully installed poc-gdpr-0.1.0\n",
            "Note: you may need to restart the kernel to use updated packages.\n"
          ]
        },
        {
          "name": "stderr",
          "output_type": "stream",
          "text": [
            "\n",
            "[notice] A new release of pip is available: 23.3.1 -> 25.1.1\n",
            "[notice] To update, run: python.exe -m pip install --upgrade pip\n"
          ]
        }
      ],
      "source": [
        "%cd ..\n",
        "# %ls\n",
        "\n",
        "# !poetry env use python3.11\n",
        "%pip install -e ."
      ]
    },
    {
      "cell_type": "markdown",
      "metadata": {},
      "source": [
        "Import modules"
      ]
    },
    {
      "cell_type": "code",
      "execution_count": 2,
      "metadata": {},
      "outputs": [],
      "source": [
        "from poc_gdpr.src.text_protector import (\n",
        "    TextProtector, \n",
        "    InstanceCounterAnonymizer, \n",
        "    InstanceCounterDeanonymizer\n",
        ")\n",
        "\n",
        "from presidio_anonymizer.entities import OperatorConfig\n",
        "from pprint import pprint"
      ]
    },
    {
      "cell_type": "markdown",
      "metadata": {},
      "source": [
        "First step is **ananymize** sensitive contents"
      ]
    },
    {
      "cell_type": "code",
      "execution_count": 3,
      "metadata": {},
      "outputs": [
        {
          "name": "stderr",
          "output_type": "stream",
          "text": [
            "\u001b[32m2025-05-18 17:29:58\u001b[0m \u001b[35mDAT32140\u001b[0m \u001b[34mpoc_gdpr.config.logger[32240]\u001b[0m \u001b[1;30mINFO\u001b[0m languages-config.yml already exists and is up to date.\n",
            "\u001b[32m2025-05-18 17:30:00\u001b[0m \u001b[35mDAT32140\u001b[0m \u001b[34mpoc_gdpr.config.logger[32240]\u001b[0m \u001b[1;30mINFO\u001b[0m Italian spaCy model is already downloaded.\n",
            "\u001b[32m2025-05-18 17:30:02\u001b[0m \u001b[35mDAT32140\u001b[0m \u001b[34mpresidio-analyzer[32240]\u001b[0m \u001b[1;30mINFO\u001b[0m Created NLP engine: spacy. Loaded models: ['it']\n",
            "\u001b[32m2025-05-18 17:30:02\u001b[0m \u001b[35mDAT32140\u001b[0m \u001b[34mpresidio-analyzer[32240]\u001b[0m \u001b[1;30mINFO\u001b[0m registry not provided, creating default.\n",
            "\u001b[32m2025-05-18 17:30:02\u001b[0m \u001b[35mDAT32140\u001b[0m \u001b[34mpresidio-analyzer[32240]\u001b[0m \u001b[1;30mINFO\u001b[0m Loaded recognizer: CreditCardRecognizer\n",
            "\u001b[32m2025-05-18 17:30:02\u001b[0m \u001b[35mDAT32140\u001b[0m \u001b[34mpresidio-analyzer[32240]\u001b[0m \u001b[1;30mINFO\u001b[0m Loaded recognizer: CreditCardRecognizer\n",
            "\u001b[32m2025-05-18 17:30:02\u001b[0m \u001b[35mDAT32140\u001b[0m \u001b[34mpresidio-analyzer[32240]\u001b[0m \u001b[1;30mINFO\u001b[0m Loaded recognizer: CreditCardRecognizer\n",
            "\u001b[32m2025-05-18 17:30:02\u001b[0m \u001b[35mDAT32140\u001b[0m \u001b[34mpresidio-analyzer[32240]\u001b[0m \u001b[1;30mINFO\u001b[0m Loaded recognizer: CreditCardRecognizer\n",
            "\u001b[32m2025-05-18 17:30:02\u001b[0m \u001b[35mDAT32140\u001b[0m \u001b[34mpresidio-analyzer[32240]\u001b[0m \u001b[1;30mINFO\u001b[0m Loaded recognizer: UsBankRecognizer\n",
            "\u001b[32m2025-05-18 17:30:02\u001b[0m \u001b[35mDAT32140\u001b[0m \u001b[34mpresidio-analyzer[32240]\u001b[0m \u001b[1;30mINFO\u001b[0m Loaded recognizer: UsLicenseRecognizer\n",
            "\u001b[32m2025-05-18 17:30:02\u001b[0m \u001b[35mDAT32140\u001b[0m \u001b[34mpresidio-analyzer[32240]\u001b[0m \u001b[1;30mINFO\u001b[0m Loaded recognizer: UsItinRecognizer\n",
            "\u001b[32m2025-05-18 17:30:02\u001b[0m \u001b[35mDAT32140\u001b[0m \u001b[34mpresidio-analyzer[32240]\u001b[0m \u001b[1;30mINFO\u001b[0m Loaded recognizer: UsPassportRecognizer\n",
            "\u001b[32m2025-05-18 17:30:02\u001b[0m \u001b[35mDAT32140\u001b[0m \u001b[34mpresidio-analyzer[32240]\u001b[0m \u001b[1;30mINFO\u001b[0m Loaded recognizer: UsSsnRecognizer\n",
            "\u001b[32m2025-05-18 17:30:02\u001b[0m \u001b[35mDAT32140\u001b[0m \u001b[34mpresidio-analyzer[32240]\u001b[0m \u001b[1;30mINFO\u001b[0m Loaded recognizer: NhsRecognizer\n",
            "\u001b[32m2025-05-18 17:30:02\u001b[0m \u001b[35mDAT32140\u001b[0m \u001b[34mpresidio-analyzer[32240]\u001b[0m \u001b[1;30mINFO\u001b[0m Loaded recognizer: UkNinoRecognizer\n",
            "\u001b[32m2025-05-18 17:30:02\u001b[0m \u001b[35mDAT32140\u001b[0m \u001b[34mpresidio-analyzer[32240]\u001b[0m \u001b[1;30mINFO\u001b[0m Loaded recognizer: SgFinRecognizer\n",
            "\u001b[32m2025-05-18 17:30:02\u001b[0m \u001b[35mDAT32140\u001b[0m \u001b[34mpresidio-analyzer[32240]\u001b[0m \u001b[1;30mINFO\u001b[0m Loaded recognizer: AuAbnRecognizer\n",
            "\u001b[32m2025-05-18 17:30:02\u001b[0m \u001b[35mDAT32140\u001b[0m \u001b[34mpresidio-analyzer[32240]\u001b[0m \u001b[1;30mINFO\u001b[0m Loaded recognizer: AuAcnRecognizer\n",
            "\u001b[32m2025-05-18 17:30:02\u001b[0m \u001b[35mDAT32140\u001b[0m \u001b[34mpresidio-analyzer[32240]\u001b[0m \u001b[1;30mINFO\u001b[0m Loaded recognizer: AuTfnRecognizer\n",
            "\u001b[32m2025-05-18 17:30:02\u001b[0m \u001b[35mDAT32140\u001b[0m \u001b[34mpresidio-analyzer[32240]\u001b[0m \u001b[1;30mINFO\u001b[0m Loaded recognizer: AuMedicareRecognizer\n",
            "\u001b[32m2025-05-18 17:30:02\u001b[0m \u001b[35mDAT32140\u001b[0m \u001b[34mpresidio-analyzer[32240]\u001b[0m \u001b[1;30mINFO\u001b[0m Loaded recognizer: InPanRecognizer\n",
            "\u001b[32m2025-05-18 17:30:02\u001b[0m \u001b[35mDAT32140\u001b[0m \u001b[34mpresidio-analyzer[32240]\u001b[0m \u001b[1;30mINFO\u001b[0m Loaded recognizer: InAadhaarRecognizer\n",
            "\u001b[32m2025-05-18 17:30:02\u001b[0m \u001b[35mDAT32140\u001b[0m \u001b[34mpresidio-analyzer[32240]\u001b[0m \u001b[1;30mINFO\u001b[0m Loaded recognizer: InVehicleRegistrationRecognizer\n",
            "\u001b[32m2025-05-18 17:30:02\u001b[0m \u001b[35mDAT32140\u001b[0m \u001b[34mpresidio-analyzer[32240]\u001b[0m \u001b[1;30mINFO\u001b[0m Loaded recognizer: InPassportRecognizer\n",
            "\u001b[32m2025-05-18 17:30:02\u001b[0m \u001b[35mDAT32140\u001b[0m \u001b[34mpresidio-analyzer[32240]\u001b[0m \u001b[1;30mINFO\u001b[0m Loaded recognizer: EsNifRecognizer\n",
            "\u001b[32m2025-05-18 17:30:02\u001b[0m \u001b[35mDAT32140\u001b[0m \u001b[34mpresidio-analyzer[32240]\u001b[0m \u001b[1;30mINFO\u001b[0m Loaded recognizer: EsNieRecognizer\n",
            "\u001b[32m2025-05-18 17:30:02\u001b[0m \u001b[35mDAT32140\u001b[0m \u001b[34mpresidio-analyzer[32240]\u001b[0m \u001b[1;30mINFO\u001b[0m Loaded recognizer: ItDriverLicenseRecognizer\n",
            "\u001b[32m2025-05-18 17:30:02\u001b[0m \u001b[35mDAT32140\u001b[0m \u001b[34mpresidio-analyzer[32240]\u001b[0m \u001b[1;30mINFO\u001b[0m Loaded recognizer: ItFiscalCodeRecognizer\n",
            "\u001b[32m2025-05-18 17:30:02\u001b[0m \u001b[35mDAT32140\u001b[0m \u001b[34mpresidio-analyzer[32240]\u001b[0m \u001b[1;30mINFO\u001b[0m Loaded recognizer: ItVatCodeRecognizer\n",
            "\u001b[32m2025-05-18 17:30:02\u001b[0m \u001b[35mDAT32140\u001b[0m \u001b[34mpresidio-analyzer[32240]\u001b[0m \u001b[1;30mINFO\u001b[0m Loaded recognizer: ItIdentityCardRecognizer\n",
            "\u001b[32m2025-05-18 17:30:02\u001b[0m \u001b[35mDAT32140\u001b[0m \u001b[34mpresidio-analyzer[32240]\u001b[0m \u001b[1;30mINFO\u001b[0m Loaded recognizer: ItPassportRecognizer\n",
            "\u001b[32m2025-05-18 17:30:02\u001b[0m \u001b[35mDAT32140\u001b[0m \u001b[34mpresidio-analyzer[32240]\u001b[0m \u001b[1;30mINFO\u001b[0m Loaded recognizer: PlPeselRecognizer\n",
            "\u001b[32m2025-05-18 17:30:02\u001b[0m \u001b[35mDAT32140\u001b[0m \u001b[34mpresidio-analyzer[32240]\u001b[0m \u001b[1;30mINFO\u001b[0m Loaded recognizer: CryptoRecognizer\n",
            "\u001b[32m2025-05-18 17:30:02\u001b[0m \u001b[35mDAT32140\u001b[0m \u001b[34mpresidio-analyzer[32240]\u001b[0m \u001b[1;30mINFO\u001b[0m Loaded recognizer: DateRecognizer\n",
            "\u001b[32m2025-05-18 17:30:02\u001b[0m \u001b[35mDAT32140\u001b[0m \u001b[34mpresidio-analyzer[32240]\u001b[0m \u001b[1;30mINFO\u001b[0m Loaded recognizer: EmailRecognizer\n",
            "\u001b[32m2025-05-18 17:30:02\u001b[0m \u001b[35mDAT32140\u001b[0m \u001b[34mpresidio-analyzer[32240]\u001b[0m \u001b[1;30mINFO\u001b[0m Loaded recognizer: IbanRecognizer\n",
            "\u001b[32m2025-05-18 17:30:02\u001b[0m \u001b[35mDAT32140\u001b[0m \u001b[34mpresidio-analyzer[32240]\u001b[0m \u001b[1;30mINFO\u001b[0m Loaded recognizer: IpRecognizer\n",
            "\u001b[32m2025-05-18 17:30:02\u001b[0m \u001b[35mDAT32140\u001b[0m \u001b[34mpresidio-analyzer[32240]\u001b[0m \u001b[1;30mINFO\u001b[0m Loaded recognizer: MedicalLicenseRecognizer\n",
            "\u001b[32m2025-05-18 17:30:02\u001b[0m \u001b[35mDAT32140\u001b[0m \u001b[34mpresidio-analyzer[32240]\u001b[0m \u001b[1;30mINFO\u001b[0m Loaded recognizer: PhoneRecognizer\n",
            "\u001b[32m2025-05-18 17:30:02\u001b[0m \u001b[35mDAT32140\u001b[0m \u001b[34mpresidio-analyzer[32240]\u001b[0m \u001b[1;30mINFO\u001b[0m Loaded recognizer: UrlRecognizer\n",
            "\u001b[32m2025-05-18 17:30:02\u001b[0m \u001b[35mDAT32140\u001b[0m \u001b[34mpresidio-analyzer[32240]\u001b[0m \u001b[1;30mINFO\u001b[0m Loaded recognizer: InVoterRecognizer\n",
            "\u001b[32m2025-05-18 17:30:02\u001b[0m \u001b[35mDAT32140\u001b[0m \u001b[34mpresidio-analyzer[32240]\u001b[0m \u001b[1;30mWARNING\u001b[0m \u001b[33mRecognizer not added to registry because language is not supported by registry - CreditCardRecognizer supported languages: en, registry supported languages: it\u001b[0m\n",
            "\u001b[32m2025-05-18 17:30:02\u001b[0m \u001b[35mDAT32140\u001b[0m \u001b[34mpresidio-analyzer[32240]\u001b[0m \u001b[1;30mWARNING\u001b[0m \u001b[33mRecognizer not added to registry because language is not supported by registry - CreditCardRecognizer supported languages: es, registry supported languages: it\u001b[0m\n",
            "\u001b[32m2025-05-18 17:30:02\u001b[0m \u001b[35mDAT32140\u001b[0m \u001b[34mpresidio-analyzer[32240]\u001b[0m \u001b[1;30mWARNING\u001b[0m \u001b[33mRecognizer not added to registry because language is not supported by registry - CreditCardRecognizer supported languages: pl, registry supported languages: it\u001b[0m\n",
            "\u001b[32m2025-05-18 17:30:02\u001b[0m \u001b[35mDAT32140\u001b[0m \u001b[34mpresidio-analyzer[32240]\u001b[0m \u001b[1;30mWARNING\u001b[0m \u001b[33mRecognizer not added to registry because language is not supported by registry - UsBankRecognizer supported languages: en, registry supported languages: it\u001b[0m\n",
            "\u001b[32m2025-05-18 17:30:02\u001b[0m \u001b[35mDAT32140\u001b[0m \u001b[34mpresidio-analyzer[32240]\u001b[0m \u001b[1;30mWARNING\u001b[0m \u001b[33mRecognizer not added to registry because language is not supported by registry - UsLicenseRecognizer supported languages: en, registry supported languages: it\u001b[0m\n",
            "\u001b[32m2025-05-18 17:30:02\u001b[0m \u001b[35mDAT32140\u001b[0m \u001b[34mpresidio-analyzer[32240]\u001b[0m \u001b[1;30mWARNING\u001b[0m \u001b[33mRecognizer not added to registry because language is not supported by registry - UsItinRecognizer supported languages: en, registry supported languages: it\u001b[0m\n",
            "\u001b[32m2025-05-18 17:30:02\u001b[0m \u001b[35mDAT32140\u001b[0m \u001b[34mpresidio-analyzer[32240]\u001b[0m \u001b[1;30mWARNING\u001b[0m \u001b[33mRecognizer not added to registry because language is not supported by registry - UsPassportRecognizer supported languages: en, registry supported languages: it\u001b[0m\n",
            "\u001b[32m2025-05-18 17:30:02\u001b[0m \u001b[35mDAT32140\u001b[0m \u001b[34mpresidio-analyzer[32240]\u001b[0m \u001b[1;30mWARNING\u001b[0m \u001b[33mRecognizer not added to registry because language is not supported by registry - UsSsnRecognizer supported languages: en, registry supported languages: it\u001b[0m\n",
            "\u001b[32m2025-05-18 17:30:02\u001b[0m \u001b[35mDAT32140\u001b[0m \u001b[34mpresidio-analyzer[32240]\u001b[0m \u001b[1;30mWARNING\u001b[0m \u001b[33mRecognizer not added to registry because language is not supported by registry - NhsRecognizer supported languages: en, registry supported languages: it\u001b[0m\n",
            "\u001b[32m2025-05-18 17:30:02\u001b[0m \u001b[35mDAT32140\u001b[0m \u001b[34mpresidio-analyzer[32240]\u001b[0m \u001b[1;30mWARNING\u001b[0m \u001b[33mRecognizer not added to registry because language is not supported by registry - UkNinoRecognizer supported languages: en, registry supported languages: it\u001b[0m\n",
            "\u001b[32m2025-05-18 17:30:02\u001b[0m \u001b[35mDAT32140\u001b[0m \u001b[34mpresidio-analyzer[32240]\u001b[0m \u001b[1;30mWARNING\u001b[0m \u001b[33mRecognizer not added to registry because language is not supported by registry - SgFinRecognizer supported languages: en, registry supported languages: it\u001b[0m\n",
            "\u001b[32m2025-05-18 17:30:02\u001b[0m \u001b[35mDAT32140\u001b[0m \u001b[34mpresidio-analyzer[32240]\u001b[0m \u001b[1;30mWARNING\u001b[0m \u001b[33mRecognizer not added to registry because language is not supported by registry - AuAbnRecognizer supported languages: en, registry supported languages: it\u001b[0m\n",
            "\u001b[32m2025-05-18 17:30:02\u001b[0m \u001b[35mDAT32140\u001b[0m \u001b[34mpresidio-analyzer[32240]\u001b[0m \u001b[1;30mWARNING\u001b[0m \u001b[33mRecognizer not added to registry because language is not supported by registry - AuAcnRecognizer supported languages: en, registry supported languages: it\u001b[0m\n",
            "\u001b[32m2025-05-18 17:30:02\u001b[0m \u001b[35mDAT32140\u001b[0m \u001b[34mpresidio-analyzer[32240]\u001b[0m \u001b[1;30mWARNING\u001b[0m \u001b[33mRecognizer not added to registry because language is not supported by registry - AuTfnRecognizer supported languages: en, registry supported languages: it\u001b[0m\n",
            "\u001b[32m2025-05-18 17:30:02\u001b[0m \u001b[35mDAT32140\u001b[0m \u001b[34mpresidio-analyzer[32240]\u001b[0m \u001b[1;30mWARNING\u001b[0m \u001b[33mRecognizer not added to registry because language is not supported by registry - AuMedicareRecognizer supported languages: en, registry supported languages: it\u001b[0m\n",
            "\u001b[32m2025-05-18 17:30:02\u001b[0m \u001b[35mDAT32140\u001b[0m \u001b[34mpresidio-analyzer[32240]\u001b[0m \u001b[1;30mWARNING\u001b[0m \u001b[33mRecognizer not added to registry because language is not supported by registry - InPanRecognizer supported languages: en, registry supported languages: it\u001b[0m\n",
            "\u001b[32m2025-05-18 17:30:02\u001b[0m \u001b[35mDAT32140\u001b[0m \u001b[34mpresidio-analyzer[32240]\u001b[0m \u001b[1;30mWARNING\u001b[0m \u001b[33mRecognizer not added to registry because language is not supported by registry - InAadhaarRecognizer supported languages: en, registry supported languages: it\u001b[0m\n",
            "\u001b[32m2025-05-18 17:30:02\u001b[0m \u001b[35mDAT32140\u001b[0m \u001b[34mpresidio-analyzer[32240]\u001b[0m \u001b[1;30mWARNING\u001b[0m \u001b[33mRecognizer not added to registry because language is not supported by registry - InVehicleRegistrationRecognizer supported languages: en, registry supported languages: it\u001b[0m\n",
            "\u001b[32m2025-05-18 17:30:02\u001b[0m \u001b[35mDAT32140\u001b[0m \u001b[34mpresidio-analyzer[32240]\u001b[0m \u001b[1;30mWARNING\u001b[0m \u001b[33mRecognizer not added to registry because language is not supported by registry - InPassportRecognizer supported languages: en, registry supported languages: it\u001b[0m\n",
            "\u001b[32m2025-05-18 17:30:02\u001b[0m \u001b[35mDAT32140\u001b[0m \u001b[34mpresidio-analyzer[32240]\u001b[0m \u001b[1;30mWARNING\u001b[0m \u001b[33mRecognizer not added to registry because language is not supported by registry - EsNifRecognizer supported languages: es, registry supported languages: it\u001b[0m\n",
            "\u001b[32m2025-05-18 17:30:02\u001b[0m \u001b[35mDAT32140\u001b[0m \u001b[34mpresidio-analyzer[32240]\u001b[0m \u001b[1;30mWARNING\u001b[0m \u001b[33mRecognizer not added to registry because language is not supported by registry - EsNieRecognizer supported languages: es, registry supported languages: it\u001b[0m\n",
            "\u001b[32m2025-05-18 17:30:02\u001b[0m \u001b[35mDAT32140\u001b[0m \u001b[34mpresidio-analyzer[32240]\u001b[0m \u001b[1;30mWARNING\u001b[0m \u001b[33mRecognizer not added to registry because language is not supported by registry - PlPeselRecognizer supported languages: pl, registry supported languages: it\u001b[0m\n",
            "\u001b[32m2025-05-18 17:30:02\u001b[0m \u001b[35mDAT32140\u001b[0m \u001b[34mpresidio-analyzer[32240]\u001b[0m \u001b[1;30mINFO\u001b[0m Loaded recognizer: SpacyRecognizer\n",
            "\u001b[32m2025-05-18 17:30:02\u001b[0m \u001b[35mDAT32140\u001b[0m \u001b[34mpresidio-anonymizer[32240]\u001b[0m \u001b[1;30mINFO\u001b[0m Added anonymizer InstanceCounterAnonymizer\n",
            "\u001b[32m2025-05-18 17:30:02\u001b[0m \u001b[35mDAT32140\u001b[0m \u001b[34mpresidio-anonymizer[32240]\u001b[0m \u001b[1;30mINFO\u001b[0m Added deanonymizer InstanceCounterDeanonymizer\n",
            "\u001b[32m2025-05-18 17:30:02\u001b[0m \u001b[35mDAT32140\u001b[0m \u001b[34mpresidio-analyzer[32240]\u001b[0m \u001b[1;30mINFO\u001b[0m Fetching all recognizers for language it\n"
          ]
        },
        {
          "name": "stdout",
          "output_type": "stream",
          "text": [
            "anonymized entities:\n",
            "{ 'EMAIL_ADDRESS': {'mariorossi@gmail.com': '<EMAIL_ADDRESS_0>'},\n",
            "  'IT_FISCAL_CODE': {'RSSMRA85M01H501Z': '<IT_FISCAL_CODE_0>'},\n",
            "  'LOCATION': {'Roma': '<LOCATION_0>'},\n",
            "  'PERSON': {'Mario Rossi': '<PERSON_0>'},\n",
            "  'PHONE_NUMBER': {'1234567890': '<PHONE_NUMBER_0>'}}\n"
          ]
        }
      ],
      "source": [
        "text = \"\"\"\n",
        "    Ciao, mi chiamo Mario Rossi e vivo a Roma e ho 38 anni. Il mio numero di telefono è 1234567890 e la mia email è\n",
        "    mariorossi@gmail.com, mentre il mio codice fiscale è RSSMRA85M01H501Z.\n",
        "\"\"\"\n",
        "\n",
        "text_protector = TextProtector()\n",
        "text_protector.anonymizer.add_anonymizer(InstanceCounterAnonymizer)\n",
        "text_protector.deanonymizer.add_deanonymizer(InstanceCounterDeanonymizer)\n",
        "\n",
        "results = text_protector.analyze_text(text)\n",
        "\n",
        "# Create a mapping between entity types and counters\n",
        "entity_mapping = dict()\n",
        "\n",
        "anonymized_result = text_protector.anonymizer.anonymize(\n",
        "text,\n",
        "results,\n",
        "{\n",
        "    \"DEFAULT\": OperatorConfig(\n",
        "        \"entity_counter\", {\"entity_mapping\": entity_mapping}\n",
        "    )\n",
        "},\n",
        ")\n",
        "\n",
        "\n",
        "\n",
        "deanonymized = text_protector.deanonymizer.deanonymize(\n",
        "    anonymized_result.text, \n",
        "    anonymized_result.items, \n",
        "    {\"DEFAULT\": OperatorConfig(\"entity_counter_deanonymizer\", \n",
        "                            params={\"entity_mapping\": entity_mapping})}\n",
        ")\n",
        "# print(\"anonymized text:\")\n",
        "# pprint(anonymized_result.text)\n",
        "# print(\"de-anonymized text:\")\n",
        "# pprint(deanonymized.text)\n",
        "print(\"anonymized entities:\")\n",
        "pprint(entity_mapping, indent=2)\n"
      ]
    },
    {
      "cell_type": "markdown",
      "metadata": {},
      "source": [
        "Print the anonymized results"
      ]
    },
    {
      "cell_type": "code",
      "execution_count": 4,
      "metadata": {},
      "outputs": [
        {
          "name": "stdout",
          "output_type": "stream",
          "text": [
            "('\\n'\n",
            " '    Ciao, mi chiamo <PERSON_0> e vivo a <LOCATION_0> e ho 38 anni. Il mio '\n",
            " 'numero di telefono è <PHONE_NUMBER_0> e la mia email è\\n'\n",
            " '    <EMAIL_ADDRESS_0>, mentre il mio codice fiscale è <IT_FISCAL_CODE_0>.\\n')\n"
          ]
        }
      ],
      "source": [
        "presidio_anonymizer_res = anonymized_result.text\n",
        "pprint(presidio_anonymizer_res, indent=2)"
      ]
    },
    {
      "cell_type": "markdown",
      "metadata": {},
      "source": [
        "Set up validation classes in pydantic, for data quality checks.\n",
        "\n",
        "First class is the base pydantic model with attributes\n",
        "\n",
        "Second class is a more complex pydantic model, that inherits from the first one, but has field validators check in order to control several attributes"
      ]
    },
    {
      "cell_type": "code",
      "execution_count": 5,
      "metadata": {},
      "outputs": [],
      "source": [
        "from pydantic import BaseModel, Field, field_validator\n",
        "import re\n",
        "\n",
        "class UserInfo(BaseModel):\n",
        "    name: str = Field(..., description=\"Nome completo della persona\")\n",
        "    city: str = Field(..., description=\"Città di residenza\")\n",
        "    phone_number: str = Field(..., description=\"Numero di telefono\")\n",
        "    email: str = Field(..., description=\"Indirizzo email\")\n",
        "    fiscal_code: str = Field(..., description=\"Codice fiscale\")\n",
        "\n",
        "class UserInfoValidator(UserInfo):\n",
        "    @field_validator(\"name\")\n",
        "    def validate_name(cls, v):\n",
        "        if not re.match(r\"^[A-Z][a-z]+ [A-Z][a-z]+$\", v):\n",
        "            raise ValueError(\"Il nome deve essere in formato 'Nome Cognome'\")\n",
        "        return v\n",
        "\n",
        "    @field_validator(\"phone_number\")\n",
        "    def validate_phone_number(cls, v):\n",
        "        if not re.match(r\"^\\d{10}$\", v):\n",
        "            raise ValueError(\"Il numero di telefono deve essere lungo 10 cifre\")\n",
        "        return v\n",
        "\n",
        "    @field_validator(\"email\")\n",
        "    def validate_email(cls, v):\n",
        "        if not re.match(r\"^[a-zA-Z0-9_.+-]+@[a-zA-Z0-9-]+\\.[a-zA-Z0-9-.]+$\", v):\n",
        "            raise ValueError(\"L'email non è valida\")\n",
        "        return v"
      ]
    },
    {
      "cell_type": "markdown",
      "metadata": {},
      "source": [
        "Call the agents with anonymized PIIs"
      ]
    },
    {
      "cell_type": "code",
      "execution_count": null,
      "metadata": {},
      "outputs": [
        {
          "name": "stderr",
          "output_type": "stream",
          "text": [
            "\u001b[32m2025-05-18 17:30:21\u001b[0m \u001b[35mDAT32140\u001b[0m \u001b[34mhttpx[32240]\u001b[0m \u001b[1;30mINFO\u001b[0m HTTP Request: POST https://api.openai.com/v1/responses \"HTTP/1.1 200 OK\"\n",
            "\u001b[32m2025-05-18 17:30:22\u001b[0m \u001b[35mDAT32140\u001b[0m \u001b[34mhttpx[32240]\u001b[0m \u001b[1;30mINFO\u001b[0m HTTP Request: POST https://api.openai.com/v1/responses \"HTTP/1.1 200 OK\"\n"
          ]
        },
        {
          "name": "stdout",
          "output_type": "stream",
          "text": [
            "```json\n",
            "{\n",
            "    \"name\": \"<PERSON_0>\",\n",
            "    \"city\": \"<LOCATION_0>\",\n",
            "    \"phone_number\": \"<PHONE_NUMBER_0>\",\n",
            "    \"email\": \"<EMAIL_ADDRESS_0>\",\n",
            "    \"fiscal_code\": \"<IT_FISCAL_CODE_0>\"\n",
            "}\n",
            "```\n"
          ]
        },
        {
          "name": "stderr",
          "output_type": "stream",
          "text": [
            "\u001b[32m2025-05-18 17:30:23\u001b[0m \u001b[35mDAT32140\u001b[0m \u001b[34mhttpx[32240]\u001b[0m \u001b[1;30mINFO\u001b[0m HTTP Request: POST https://api.openai.com/v1/traces/ingest \"HTTP/1.1 204 No Content\"\n",
            "\u001b[32m2025-05-18 17:30:24\u001b[0m \u001b[35mDAT32140\u001b[0m \u001b[34mhttpx[32240]\u001b[0m \u001b[1;30mINFO\u001b[0m HTTP Request: POST https://api.openai.com/v1/traces/ingest \"HTTP/1.1 204 No Content\"\n"
          ]
        }
      ],
      "source": [
        "from poc_gdpr.src.core import triage_agent\n",
        "from agents import Runner\n",
        "\n",
        "result = await Runner.run(triage_agent, presidio_anonymizer_res)\n",
        "print(result.final_output)"
      ]
    },
    {
      "cell_type": "markdown",
      "metadata": {},
      "source": [
        "Validate the output and de-anonymize PIIs"
      ]
    },
    {
      "cell_type": "code",
      "execution_count": 7,
      "metadata": {},
      "outputs": [
        {
          "data": {
            "text/plain": [
              "{'name': 'Mario Rossi',\n",
              " 'city': 'Roma',\n",
              " 'phone_number': '1234567890',\n",
              " 'email': 'mariorossi@gmail.com',\n",
              " 'fiscal_code': 'RSSMRA85M01H501Z'}"
            ]
          },
          "execution_count": 7,
          "metadata": {},
          "output_type": "execute_result"
        }
      ],
      "source": [
        "from poc_gdpr.src.text_protector import JsonValidator\n",
        "\n",
        "json_validator = JsonValidator(\n",
        "    pydantic_model_not_validated=UserInfo,\n",
        "    pydantic_model_validated=UserInfoValidator,\n",
        "    raw_json=result.final_output,\n",
        "    entity_mapping=entity_mapping,\n",
        ")\n",
        "\n",
        "json_validator.validate()"
      ]
    }
  ],
  "metadata": {
    "colab": {
      "provenance": []
    },
    "kernelspec": {
      "display_name": "Python 3",
      "name": "python3"
    },
    "language_info": {
      "codemirror_mode": {
        "name": "ipython",
        "version": 3
      },
      "file_extension": ".py",
      "mimetype": "text/x-python",
      "name": "python",
      "nbconvert_exporter": "python",
      "pygments_lexer": "ipython3",
      "version": "3.11.9"
    }
  },
  "nbformat": 4,
  "nbformat_minor": 0
}
